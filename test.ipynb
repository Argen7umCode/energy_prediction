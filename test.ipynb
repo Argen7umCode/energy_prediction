{
 "cells": [
  {
   "cell_type": "code",
   "execution_count": 1,
   "metadata": {},
   "outputs": [],
   "source": [
    "import numpy as np\n",
    "import matplotlib.pyplot as plt\n",
    "import pandas as pd\n",
    "import torch\n",
    "import torch.nn as nn\n",
    "from utils.get_sequences import get_sequences\n",
    "from utils.split_data import split_data\n",
    "from sklearn.preprocessing import StandardScaler\n",
    "from data_files.data_module import EnergyChickenDataModule\n",
    "from model_files.model import LSTM\n",
    "from model_files.trainer import Trainer\n",
    "from torch.optim import Adam, SGD, Adadelta, AdamW, Adagrad\n",
    "import matplotlib.pyplot as plt\n",
    "import json\n",
    "\n",
    "import warnings\n",
    "warnings.filterwarnings(action='ignore', category=DeprecationWarning)"
   ]
  },
  {
   "cell_type": "code",
   "execution_count": 2,
   "metadata": {},
   "outputs": [],
   "source": [
    "RANDOM_SEED = 42\n",
    "SPLITER_COUNT = 0.8\n",
    "WINDOW_LENGHT = 24 * 7 * 4 # window size of one month\n",
    "BATCH_SIZE = 32\n",
    "MAX_COUNT_DECREASING = 10\n",
    "LEARNING_RATE = 0.001\n",
    "N_EPOCHS = 100\n",
    "DEVICE = 'cuda' if torch.cuda.is_available() else 'cpu'"
   ]
  },
  {
   "cell_type": "code",
   "execution_count": 3,
   "metadata": {},
   "outputs": [],
   "source": [
    "df = pd.read_csv('data_files/processed.csv')\n",
    "df.drop(columns=df.columns[0], inplace=True)\n",
    "scaler = StandardScaler()\n",
    "data = torch.FloatTensor(scaler.fit_transform(df.iloc[:, 0].to_numpy().reshape((-1, 1)))).to(DEVICE)\n",
    "sequences = get_sequences(data, WINDOW_LENGHT)\n",
    "train, test = split_data(sequences, SPLITER_COUNT)"
   ]
  },
  {
   "cell_type": "code",
   "execution_count": 4,
   "metadata": {},
   "outputs": [],
   "source": [
    "optimizers = [Adam, SGD, Adadelta, AdamW] # optimizers that we will test"
   ]
  },
  {
   "cell_type": "code",
   "execution_count": 5,
   "metadata": {},
   "outputs": [
    {
     "name": "stdout",
     "output_type": "stream",
     "text": [
      "Adam\n"
     ]
    },
    {
     "name": "stderr",
     "output_type": "stream",
     "text": [
      "/home/argen7um/Desktop/code/energy_prediction/data_files/dataset.py:15: UserWarning: To copy construct from a tensor, it is recommended to use sourceTensor.clone().detach() or sourceTensor.clone().detach().requires_grad_(True), rather than torch.tensor(sourceTensor).\n",
      "  return (torch.Tensor(sequence), torch.tensor(label).float())\n",
      "/home/argen7um/.local/lib/python3.10/site-packages/torch/nn/modules/loss.py:536: UserWarning: Using a target size (torch.Size([1, 1])) that is different to the input size (torch.Size([1])). This will likely lead to incorrect results due to broadcasting. Please ensure they have the same size.\n",
      "  return F.mse_loss(input, target, reduction=self.reduction)\n"
     ]
    },
    {
     "name": "stdout",
     "output_type": "stream",
     "text": [
      "epoch 1 train_loss 0.16901 test_loss 0.220407 time 70.807198\n",
      "epoch 2 train_loss 0.117531 test_loss 0.138094 time 75.275218\n",
      "epoch 3 train_loss 0.091537 test_loss 0.156205 time 72.386174\n",
      "epoch 4 train_loss 0.079772 test_loss 0.117177 time 55.923169\n",
      "epoch 5 train_loss 0.068531 test_loss 0.092732 time 60.705534\n",
      "epoch 6 train_loss 0.094478 test_loss 0.162306 time 59.38107\n",
      "epoch 7 train_loss 0.090058 test_loss 0.121635 time 61.043731\n",
      "epoch 8 train_loss 0.078297 test_loss 0.099602 time 62.308078\n",
      "epoch 9 train_loss 0.072494 test_loss 0.117325 time 61.0842\n",
      "epoch 10 train_loss 0.069279 test_loss 0.086883 time 62.594113\n",
      "SGD\n",
      "epoch 1 train_loss 0.416799 test_loss 0.357041 time 54.182756\n",
      "epoch 2 train_loss 0.221237 test_loss 0.255748 time 54.734307\n",
      "epoch 3 train_loss 0.17262 test_loss 0.223836 time 53.983014\n",
      "epoch 4 train_loss 0.16484 test_loss 0.219986 time 54.001846\n",
      "epoch 5 train_loss 0.162764 test_loss 0.217845 time 54.892384\n",
      "epoch 6 train_loss 0.160922 test_loss 0.216013 time 54.049899\n",
      "epoch 7 train_loss 0.159262 test_loss 0.214354 time 54.101359\n",
      "epoch 8 train_loss 0.157754 test_loss 0.21282 time 55.05484\n",
      "epoch 9 train_loss 0.156369 test_loss 0.211378 time 53.461134\n",
      "epoch 10 train_loss 0.155085 test_loss 0.210007 time 54.717773\n",
      "Adadelta\n",
      "epoch 1 train_loss 0.842182 test_loss 1.075629 time 65.683565\n",
      "epoch 2 train_loss 0.735803 test_loss 0.989842 time 65.299258\n",
      "epoch 3 train_loss 0.646933 test_loss 0.907726 time 65.68726\n",
      "epoch 4 train_loss 0.578834 test_loss 0.827692 time 65.242175\n",
      "epoch 5 train_loss 0.521337 test_loss 0.74791 time 65.249644\n",
      "epoch 6 train_loss 0.465845 test_loss 0.66795 time 65.099036\n",
      "epoch 7 train_loss 0.408737 test_loss 0.587093 time 63.026449\n",
      "epoch 8 train_loss 0.349704 test_loss 0.507061 time 65.644579\n",
      "epoch 9 train_loss 0.294418 test_loss 0.43813 time 66.708705\n",
      "epoch 10 train_loss 0.254818 test_loss 0.39267 time 68.301861\n",
      "AdamW\n",
      "epoch 1 train_loss 0.175978 test_loss 0.172691 time 67.211006\n",
      "epoch 2 train_loss 0.099391 test_loss 0.129764 time 66.657622\n",
      "epoch 3 train_loss 0.084855 test_loss 0.175858 time 65.675393\n",
      "epoch 4 train_loss 0.075902 test_loss 0.128993 time 63.964556\n",
      "epoch 5 train_loss 0.067459 test_loss 0.104351 time 57.758756\n",
      "epoch 6 train_loss 0.063251 test_loss 0.123524 time 66.272837\n",
      "epoch 7 train_loss 0.059637 test_loss 0.068789 time 63.086417\n",
      "epoch 8 train_loss 0.053597 test_loss 0.058268 time 69.555084\n",
      "epoch 9 train_loss 0.047833 test_loss 0.068499 time 57.928206\n",
      "epoch 10 train_loss 0.04523 test_loss 0.054252 time 64.557048\n"
     ]
    }
   ],
   "source": [
    "comparison_logs = {}\n",
    "\n",
    "for optimizer in optimizers:\n",
    "    optimizer_name = str(optimizer).split('.')[-1][:-2]\n",
    "    print(optimizer_name)\n",
    "\n",
    "    data_module = EnergyChickenDataModule(train, test)\n",
    "    data_module.setup()\n",
    "    model = LSTM(device=DEVICE)\n",
    "    optimizer = optimizer(model.parameters(), lr=LEARNING_RATE)\n",
    "    criterion = nn.MSELoss()\n",
    "\n",
    "    trainer = Trainer(model=model, \n",
    "                    optimizer=optimizer, \n",
    "                    loss_function=criterion,\n",
    "                    n_epochs=N_EPOCHS,\n",
    "                    device=DEVICE,\n",
    "                    max_count_decreasing=MAX_COUNT_DECREASING)\n",
    "\n",
    "    train_dataloader = data_module.train_dataloader()\n",
    "    test_dataloader = data_module.test_dataloader()\n",
    "    trainer.upload_data(train_dataloader, test_dataloader)\n",
    "\n",
    "    trainer.fit()\n",
    "    \n",
    "    comparison_logs[optimizer_name] = trainer.logs\n",
    "    with open('compatison_results.json', 'w') as file:\n",
    "        json.dump(comparison_logs, file, ensure_ascii=False, indent=4)\n",
    "    "
   ]
  },
  {
   "cell_type": "code",
   "execution_count": 6,
   "metadata": {},
   "outputs": [
    {
     "name": "stdout",
     "output_type": "stream",
     "text": [
      "train_loss 78.73265413832746\n",
      "test_loss 76.70794126746199 \n"
     ]
    },
    {
     "data": {
      "image/png": "[encoded data removed]",
      "text/plain": [
       "<Figure size 432x288 with 1 Axes>"
      ]
     },
     "metadata": {
      "needs_background": "light"
     },
     "output_type": "display_data"
    }
   ],
   "source": [
    "\n",
    "stat = trainer.logs\n",
    "train_loss = stat['train_loss']\n",
    "test_loss = stat['test_loss']\n",
    "min_train_loss = min(train_loss)\n",
    "min_train_loss_epoch = train_loss.index(min_train_loss)\n",
    "min_test_loss = min(test_loss)\n",
    "min_test_loss_epoch = test_loss.index(min_test_loss)\n",
    "print(f'train_loss {(1-min_train_loss**0.5)*100}\\ntest_loss {(1-min_test_loss**0.5)*100} ')\n",
    "\n",
    "plt.scatter([min_train_loss_epoch], [min_train_loss], label='Min train loss')\n",
    "plt.scatter([min_test_loss_epoch], [min_test_loss], label='Min test loss')\n",
    "plt.plot(train_loss, label='Train loss')\n",
    "plt.plot(test_loss, label='Test loss')\n",
    "\n",
    "plt.xlabel('Epochs')\n",
    "plt.ylabel('Loss')\n",
    "plt.legend()\n",
    "plt.show()\n",
    "\n",
    "\n"
   ]
  },
  {
   "cell_type": "code",
   "execution_count": 7,
   "metadata": {},
   "outputs": [
    {
     "name": "stdout",
     "output_type": "stream",
     "text": [
      "AdamW\n"
     ]
    }
   ],
   "source": [
    "print(str(AdamW).split('.')[-1][:-2])"
   ]
  },
  {
   "cell_type": "code",
   "execution_count": null,
   "metadata": {},
   "outputs": [],
   "source": []
  }
 ],
 "metadata": {
  "kernelspec": {
   "display_name": "Python 3.10.6 64-bit",
   "language": "python",
   "name": "python3"
  },
  "language_info": {
   "codemirror_mode": {
    "name": "ipython",
    "version": 3
   },
   "file_extension": ".py",
   "mimetype": "text/x-python",
   "name": "python",
   "nbconvert_exporter": "python",
   "pygments_lexer": "ipython3",
   "version": "3.10.6"
  },
  "orig_nbformat": 4,
  "vscode": {
   "interpreter": {
    "hash": "916dbcbb3f70747c44a77c7bcd40155683ae19c65e1c03b4aa3499c5328201f1"
   }
  }
 },
 "nbformat": 4,
 "nbformat_minor": 2
}
