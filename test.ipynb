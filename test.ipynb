{
 "cells": [
  {
   "cell_type": "code",
   "execution_count": 1,
   "metadata": {},
   "outputs": [],
   "source": [
    "import numpy as np\n",
    "import matplotlib.pyplot as plt\n",
    "import pandas as pd\n",
    "import torch\n",
    "import torch.nn as nn\n",
    "from utils.get_sequences import get_sequences\n",
    "from utils.split_data import split_data\n",
    "from sklearn.preprocessing import StandardScaler\n",
    "from data_files.data_module import EnergyChickenDataModule\n",
    "from model_files.model import LSTM\n",
    "from model_files.trainer import Trainer\n",
    "from torch.optim import Adam, SGD, Adadelta, AdamW, Adagrad\n",
    "import matplotlib.pyplot as plt"
   ]
  },
  {
   "cell_type": "code",
   "execution_count": null,
   "metadata": {},
   "outputs": [],
   "source": [
    "RANDOM_SEED = 42\n",
    "SPLITER_COUNT = 0.8\n",
    "WINDOW_LENGHT = 4 * 7 * 24 # window size of one month\n",
    "BATCH_SIZE = 32\n",
    "MAX_COUNT_DECREASING = 10\n",
    "LEARNING_RATE = 0.001\n",
    "N_EPOCHS = 100\n",
    "DEVICE = 'cuda' if torch.cuda.is_available() else 'cpu'"
   ]
  },
  {
   "cell_type": "code",
   "execution_count": null,
   "metadata": {},
   "outputs": [],
   "source": [
    "df = pd.read_csv('data_files/processed.csv')\n",
    "df.drop(columns=df.columns[0], inplace=True)\n",
    "scaler = StandardScaler()\n",
    "data = torch.FloatTensor(scaler.fit_transform(df.iloc[:, 0].to_numpy().reshape((-1, 1)))).to(DEVICE)\n",
    "\n",
    "sequences = get_sequences(data, WINDOW_LENGHT)\n",
    "train, test = split_data(sequences, SPLITER_COUNT)"
   ]
  },
  {
   "cell_type": "code",
   "execution_count": null,
   "metadata": {},
   "outputs": [],
   "source": [
    "model = LSTM(device=DEVICE)\n",
    "optimizers = [Adam, SGD, Adadelta, AdamW, Adagrad] # optimizers that we will test\n",
    "optimizers = [optim(model.parameters(), lr=LEARNING_RATE) for optim in optimizers]"
   ]
  },
  {
   "cell_type": "code",
   "execution_count": null,
   "metadata": {},
   "outputs": [],
   "source": [
    "def get_trainer_on_optimizer(optimizer):\n",
    "    trainer = Trainer(model=model, \n",
    "                  optimizer=optimizer, \n",
    "                  loss_function=criterion,\n",
    "                  n_epochs=N_EPOCHS,\n",
    "                  device=DEVICE,\n",
    "                  max_count_decreasing=MAX_COUNT_DECREASING)\n",
    "    return trainer"
   ]
  },
  {
   "cell_type": "code",
   "execution_count": null,
   "metadata": {},
   "outputs": [],
   "source": [
    "data_module = EnergyChickenDataModule(train, test)\n",
    "data_module.setup()\n",
    "train_dataloader = data_module.train_dataloader()\n",
    "test_dataloader = data_module.test_dataloader()\n",
    "criterion = nn.MSELoss()\n",
    "\n",
    "for optimizer in optimizers:\n",
    "    model = LSTM(device=DEVICE)\n"
   ]
  },
  {
   "cell_type": "code",
   "execution_count": null,
   "metadata": {},
   "outputs": [],
   "source": [
    "\n",
    "\n",
    "trainers = list(map(get_trainer_on_optimizer, optimizers))\n",
    "\n",
    "trainer.upload_data(train_dataloader, test_dataloader)\n",
    "\n",
    "\n",
    "\n",
    "trainer.fit()\n",
    "\n",
    "stat = trainer.logs\n",
    "train_loss = stat['train_loss']\n",
    "test_loss = stat['test_loss']\n",
    "min_train_loss = min(train_loss)\n",
    "min_train_loss_epoch = train_loss.index(min_train_loss)\n",
    "min_test_loss = min(test_loss)\n",
    "min_test_loss_epoch = test_loss.index(min_test_loss)\n",
    "print(f'train_loss {(1-min_train_loss**0.5)*100}\\ntest_loss {(1-min_test_loss**0.5)*100} ')\n",
    "\n",
    "plt.scatter([min_train_loss_epoch], [min_train_loss], label='Min train loss')\n",
    "plt.scatter([min_test_loss_epoch], [min_test_loss], label='Min test loss')\n",
    "plt.plot(train_loss, label='Train loss')\n",
    "plt.plot(test_loss, label='Test loss')\n",
    "\n",
    "plt.xlabel('Epochs')\n",
    "plt.ylabel('Loss')\n",
    "plt.legend()\n",
    "plt.show()\n",
    "\n",
    "\n"
   ]
  }
 ],
 "metadata": {
  "kernelspec": {
   "display_name": "Python 3.10.6 64-bit",
   "language": "python",
   "name": "python3"
  },
  "language_info": {
   "codemirror_mode": {
    "name": "ipython",
    "version": 3
   },
   "file_extension": ".py",
   "mimetype": "text/x-python",
   "name": "python",
   "nbconvert_exporter": "python",
   "pygments_lexer": "ipython3",
   "version": "3.10.6"
  },
  "orig_nbformat": 4,
  "vscode": {
   "interpreter": {
    "hash": "916dbcbb3f70747c44a77c7bcd40155683ae19c65e1c03b4aa3499c5328201f1"
   }
  }
 },
 "nbformat": 4,
 "nbformat_minor": 2
}
