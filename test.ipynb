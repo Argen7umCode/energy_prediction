{
 "cells": [
  {
   "cell_type": "code",
   "execution_count": 4,
   "metadata": {},
   "outputs": [],
   "source": [
    "# TODO посторить пайплайн работы модели \n",
    "#      перестроить весь файл\n",
    "import numpy as np\n",
    "import matplotlib.pyplot as plt\n",
    "import pandas as pd\n",
    "import torch\n",
    "import torch.nn as nn\n",
    "from utils.get_sequences import get_sequences\n",
    "from utils.split_data import split_data\n",
    "from sklearn.preprocessing import MinMaxScaler\n",
    "from data_files.data_module import EnergyChickenDataModule\n",
    "from model_files.model import LSTM\n",
    "from model_files.trainer import Trainer\n",
    "from torch.optim import AdamW\n",
    "\n",
    "\n",
    "RANDOM_SEED = 42\n",
    "SPLITER_COUNT = 0.8\n",
    "WINDOW_LENGHT = 24*7\n",
    "BATCH_SIZE = 32\n",
    "MAX_COUNT_DECREASING = 5\n",
    "LEARNING_RATE = 0.001\n",
    "N_EPOCHS = 10\n",
    "DEVICE = 'cuda' if torch.cuda.is_available() else 'cpu'\n",
    "\n",
    "df = pd.read_csv('data_files/processed.csv')\n",
    "df.drop(columns=df.columns[0], inplace=True)\n",
    "scaler = MinMaxScaler([-1, 1])\n",
    "data = torch.FloatTensor(scaler.fit_transform(df.iloc[:, 0].to_numpy().reshape((-1, 1)))).to(DEVICE)\n",
    "sequences = get_sequences(data, WINDOW_LENGHT)\n",
    "train, test = split_data(sequences, SPLITER_COUNT)\n",
    "\n",
    "data_module = EnergyChickenDataModule(train, test)\n",
    "data_module.setup()\n",
    "model = LSTM(device=DEVICE)\n",
    "optimizer = AdamW(model.parameters(), lr=LEARNING_RATE)\n",
    "criterion = nn.MSELoss()\n",
    "\n",
    "trainer = Trainer(model=model, \n",
    "                  optimizer=optimizer, \n",
    "                  loss_function=criterion,\n",
    "                  n_epochs=N_EPOCHS,\n",
    "                  device=DEVICE,\n",
    "                  max_count_decreasing=MAX_COUNT_DECREASING)\n",
    "\n",
    "train_dataloader = data_module.train_dataloader()\n",
    "test_dataloader = data_module.test_dataloader()\n",
    "trainer.upload_data(train_dataloader, test_dataloader)\n",
    "\n",
    "\n",
    "# for i in train_dataloader:\n",
    "#     x = i[1].squeeze(dim=2)\n",
    "#     print(x.shape)\n",
    "#     print(x)\n",
    "#     break\n"
   ]
  },
  {
   "cell_type": "code",
   "execution_count": 5,
   "metadata": {},
   "outputs": [
    {
     "name": "stderr",
     "output_type": "stream",
     "text": [
      "/home/argen7um/Desktop/code/energy_prediction/data_files/dataset.py:15: UserWarning: To copy construct from a tensor, it is recommended to use sourceTensor.clone().detach() or sourceTensor.clone().detach().requires_grad_(True), rather than torch.tensor(sourceTensor).\n",
      "  return (torch.Tensor(sequence), torch.tensor(label).float())\n",
      "/home/argen7um/.local/lib/python3.10/site-packages/torch/nn/modules/loss.py:536: UserWarning: Using a target size (torch.Size([1, 1])) that is different to the input size (torch.Size([1])). This will likely lead to incorrect results due to broadcasting. Please ensure they have the same size.\n",
      "  return F.mse_loss(input, target, reduction=self.reduction)\n"
     ]
    },
    {
     "name": "stdout",
     "output_type": "stream",
     "text": [
      "LOSS TRAIN   0.019552\n",
      "LOSS TEST 0.0008298437460325658\n"
     ]
    }
   ],
   "source": [
    "\n",
    "trainer.fit()"
   ]
  },
  {
   "cell_type": "code",
   "execution_count": null,
   "metadata": {},
   "outputs": [],
   "source": []
  }
 ],
 "metadata": {
  "kernelspec": {
   "display_name": "Python 3.10.6 64-bit",
   "language": "python",
   "name": "python3"
  },
  "language_info": {
   "codemirror_mode": {
    "name": "ipython",
    "version": 3
   },
   "file_extension": ".py",
   "mimetype": "text/x-python",
   "name": "python",
   "nbconvert_exporter": "python",
   "pygments_lexer": "ipython3",
   "version": "3.10.6"
  },
  "orig_nbformat": 4,
  "vscode": {
   "interpreter": {
    "hash": "916dbcbb3f70747c44a77c7bcd40155683ae19c65e1c03b4aa3499c5328201f1"
   }
  }
 },
 "nbformat": 4,
 "nbformat_minor": 2
}
