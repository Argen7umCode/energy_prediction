{
 "cells": [
  {
   "cell_type": "code",
   "execution_count": 1,
   "metadata": {},
   "outputs": [],
   "source": [
    "# TODO посторить пайплайн работы модели \n",
    "#      перестроить весь файл\n",
    "import numpy as np\n",
    "import matplotlib.pyplot as plt\n",
    "import pandas as pd\n",
    "import torch\n",
    "import torch.nn as nn\n",
    "from utils.get_sequences import get_sequences\n",
    "from utils.split_data import split_data\n",
    "from sklearn.preprocessing import MinMaxScaler\n",
    "from data_files.data_module import EnergyChickenDataModule\n",
    "from model_files.model import LSTM\n",
    "from model_files.trainer import Trainer\n",
    "from torch.optim import AdamW\n",
    "\n",
    "\n",
    "RANDOM_SEED = 42\n",
    "SPLITER_COUNT = 0.8\n",
    "WINDOW_LENGHT = 100\n",
    "BATCH_SIZE = 32\n",
    "MAX_COUNT_DECREASING = 5\n",
    "LEARNING_RATE = 0.001\n",
    "DEVICE = 'cuda' if torch.cuda.is_available() else 'cpu'\n",
    "\n",
    "df = pd.read_csv('data_files/processed.csv')\n",
    "df.drop(columns=df.columns[0], inplace=True)\n",
    "scaler = MinMaxScaler([-1, 1])\n",
    "data = torch.FloatTensor(scaler.fit_transform(df.iloc[:, 0].to_numpy().reshape((-1, 1)))).to(DEVICE)\n",
    "sequences = get_sequences(data, WINDOW_LENGHT)\n",
    "train, test = split_data(sequences, SPLITER_COUNT)\n",
    "\n",
    "data_module = EnergyChickenDataModule(train, test)\n",
    "data_module.setup()\n",
    "model = LSTM(device=DEVICE)\n",
    "optimizer = AdamW(model.parameters(), lr=LEARNING_RATE)\n",
    "criterion = nn.MSELoss()\n",
    "\n",
    "trainer = Trainer(model=model, \n",
    "                  optimizer=optimizer, \n",
    "                  loss_function=criterion,\n",
    "                  n_epochs=WINDOW_LENGHT,\n",
    "                  device=DEVICE,\n",
    "                  max_count_decreasing=MAX_COUNT_DECREASING)\n",
    "\n",
    "train_dataloader = data_module.train_dataloader()\n",
    "test_dataloader = data_module.test_dataloader()\n",
    "trainer.upload_data(train_dataloader, test_dataloader)\n",
    "\n"
   ]
  },
  {
   "cell_type": "code",
   "execution_count": 2,
   "metadata": {},
   "outputs": [
    {
     "name": "stdout",
     "output_type": "stream",
     "text": [
      "torch.Size([100])\n",
      "tensor([-0.3058, -0.2548, -0.1801, -0.0393,  0.5626,  0.5793,  0.5838,  0.4191,\n",
      "        -0.9838,  0.3672,  0.4412,  0.3489,  0.3084,  0.0252, -0.0429, -0.1757,\n",
      "        -0.3565, -0.4016, -0.3488, -0.4069, -0.3878, -0.4004, -0.3616, -0.3508,\n",
      "        -0.3422, -0.3320, -0.2055, -0.1136,  0.3889,  0.4206,  0.2875,  0.3677,\n",
      "         0.1329,  0.2940,  0.3442,  0.3131,  0.2499, -0.8480,  0.0437,  0.0031,\n",
      "        -0.2762, -0.3019, -0.3186, -0.2932, -0.3326, -0.3037, -0.3523, -0.3079,\n",
      "        -0.2724, -0.2440, -0.1751,  0.0741,  0.4982,  0.6292,  0.6590,  0.6375,\n",
      "         0.4626,  0.5295,  0.5098,  0.4277,  0.2430,  0.0756,  0.0120, -0.2046,\n",
      "        -0.2768, -0.3070, -0.3162, -0.2965, -0.3088, -0.3216, -0.3147, -0.2762,\n",
      "        -0.2664, -0.2377, -0.1476, -0.0927,  0.2245,  0.2403,  0.1224,  0.1953,\n",
      "         0.0368,  0.0625,  0.1251,  0.1514,  0.1427,  0.0093, -0.0488, -0.1178,\n",
      "        -0.2980, -0.3308, -0.3171, -0.3186, -0.3246, -0.3320, -0.3156, -0.3347,\n",
      "        -0.2944, -0.2771, -0.2300, -0.1360], device='cuda:0')\n"
     ]
    },
    {
     "name": "stderr",
     "output_type": "stream",
     "text": [
      "/home/argen7um/Desktop/code/energy_prediction/data_files/dataset.py:15: UserWarning: To copy construct from a tensor, it is recommended to use sourceTensor.clone().detach() or sourceTensor.clone().detach().requires_grad_(True), rather than torch.tensor(sourceTensor).\n",
      "  return (torch.Tensor(sequence), torch.tensor(label).float())\n"
     ]
    }
   ],
   "source": [
    "for i in train_dataloader:\n",
    "    x = i[0].squeeze()\n",
    "    print(x.shape)\n",
    "    print(x)\n",
    "    break\n"
   ]
  },
  {
   "cell_type": "code",
   "execution_count": 3,
   "metadata": {},
   "outputs": [
    {
     "name": "stdout",
     "output_type": "stream",
     "text": [
      "tensor([-0.3058, -0.2548, -0.1801, -0.0393,  0.5626,  0.5793,  0.5838,  0.4191,\n",
      "        -0.9838,  0.3672,  0.4412,  0.3489,  0.3084,  0.0252, -0.0429, -0.1757,\n",
      "        -0.3565, -0.4016, -0.3488, -0.4069, -0.3878, -0.4004, -0.3616, -0.3508,\n",
      "        -0.3422, -0.3320, -0.2055, -0.1136,  0.3889,  0.4206,  0.2875,  0.3677,\n",
      "         0.1329,  0.2940,  0.3442,  0.3131,  0.2499, -0.8480,  0.0437,  0.0031,\n",
      "        -0.2762, -0.3019, -0.3186, -0.2932, -0.3326, -0.3037, -0.3523, -0.3079,\n",
      "        -0.2724, -0.2440, -0.1751,  0.0741,  0.4982,  0.6292,  0.6590,  0.6375,\n",
      "         0.4626,  0.5295,  0.5098,  0.4277,  0.2430,  0.0756,  0.0120, -0.2046,\n",
      "        -0.2768, -0.3070, -0.3162, -0.2965, -0.3088, -0.3216, -0.3147, -0.2762,\n",
      "        -0.2664, -0.2377, -0.1476, -0.0927,  0.2245,  0.2403,  0.1224,  0.1953,\n",
      "         0.0368,  0.0625,  0.1251,  0.1514,  0.1427,  0.0093, -0.0488, -0.1178,\n",
      "        -0.2980, -0.3308, -0.3171, -0.3186, -0.3246, -0.3320, -0.3156, -0.3347,\n",
      "        -0.2944, -0.2771, -0.2300, -0.1360], device='cuda:0')\n",
      "100\n"
     ]
    },
    {
     "ename": "RuntimeError",
     "evalue": "Input and parameter tensors are not at the same device, found input tensor at cuda:0 and parameter tensor at cpu",
     "output_type": "error",
     "traceback": [
      "\u001b[0;31m---------------------------------------------------------------------------\u001b[0m",
      "\u001b[0;31mRuntimeError\u001b[0m                              Traceback (most recent call last)",
      "\u001b[1;32m/home/argen7um/Desktop/code/energy_prediction/test.ipynb Ячейка 3\u001b[0m in \u001b[0;36m<cell line: 1>\u001b[0;34m()\u001b[0m\n\u001b[0;32m----> <a href='vscode-notebook-cell:/home/argen7um/Desktop/code/energy_prediction/test.ipynb#W2sZmlsZQ%3D%3D?line=0'>1</a>\u001b[0m trainer\u001b[39m.\u001b[39;49mfit()\n",
      "File \u001b[0;32m~/Desktop/code/energy_prediction/model_files/trainer.py:71\u001b[0m, in \u001b[0;36mTrainer.fit\u001b[0;34m(self)\u001b[0m\n\u001b[1;32m     69\u001b[0m \u001b[39mdef\u001b[39;00m \u001b[39mfit\u001b[39m(\u001b[39mself\u001b[39m):\n\u001b[1;32m     70\u001b[0m     \u001b[39mfor\u001b[39;00m epoch \u001b[39min\u001b[39;00m \u001b[39mrange\u001b[39m(\u001b[39mself\u001b[39m\u001b[39m.\u001b[39mn_epochs):\n\u001b[0;32m---> 71\u001b[0m         \u001b[39mif\u001b[39;00m \u001b[39mnot\u001b[39;00m \u001b[39mself\u001b[39;49m\u001b[39m.\u001b[39;49mmake_epoch():\n\u001b[1;32m     72\u001b[0m             \u001b[39mbreak\u001b[39;00m\n",
      "File \u001b[0;32m~/Desktop/code/energy_prediction/model_files/trainer.py:42\u001b[0m, in \u001b[0;36mTrainer.make_epoch\u001b[0;34m(self)\u001b[0m\n\u001b[1;32m     40\u001b[0m     \u001b[39mprint\u001b[39m(sequence)\n\u001b[1;32m     41\u001b[0m     labels \u001b[39m=\u001b[39m labels\u001b[39m.\u001b[39msqueeze()\n\u001b[0;32m---> 42\u001b[0m     \u001b[39mself\u001b[39;49m\u001b[39m.\u001b[39;49mmake_step(sequence, labels)\n\u001b[1;32m     43\u001b[0m loss \u001b[39m=\u001b[39m \u001b[39mself\u001b[39m\u001b[39m.\u001b[39msingle_loss\u001b[39m.\u001b[39mitem()\n\u001b[1;32m     45\u001b[0m \u001b[39m# TODO Сделать пробег циклом по test_dataset и сохранять статистику loss по каждой из эпох \u001b[39;00m\n\u001b[1;32m     46\u001b[0m \u001b[39m# TODO Сделать раннюю остановку - проверку на уменьшение loss, если он не уменьшается \u001b[39;00m\n\u001b[1;32m     47\u001b[0m \u001b[39m#      max_count_decreasing раз подряд, то обучение прекращается\u001b[39;00m\n\u001b[1;32m     48\u001b[0m \u001b[39m#      если уменьшается, то сохраняем loss и параметры модели в best_model_parameters\u001b[39;00m\n",
      "File \u001b[0;32m~/Desktop/code/energy_prediction/model_files/trainer.py:28\u001b[0m, in \u001b[0;36mTrainer.make_step\u001b[0;34m(self, sequence, labels, train)\u001b[0m\n\u001b[1;32m     23\u001b[0m \u001b[39mself\u001b[39m\u001b[39m.\u001b[39moptimizer\u001b[39m.\u001b[39mzero_grad()\n\u001b[1;32m     24\u001b[0m \u001b[39mself\u001b[39m\u001b[39m.\u001b[39mmodel\u001b[39m.\u001b[39mhidden_cell \u001b[39m=\u001b[39m (\n\u001b[1;32m     25\u001b[0m     torch\u001b[39m.\u001b[39mzeros(\u001b[39m1\u001b[39m, \u001b[39m1\u001b[39m, \u001b[39mself\u001b[39m\u001b[39m.\u001b[39mmodel\u001b[39m.\u001b[39mhidden_layer_size)\u001b[39m.\u001b[39mto(\u001b[39mself\u001b[39m\u001b[39m.\u001b[39mdevice),\n\u001b[1;32m     26\u001b[0m     torch\u001b[39m.\u001b[39mzeros(\u001b[39m1\u001b[39m, \u001b[39m1\u001b[39m, \u001b[39mself\u001b[39m\u001b[39m.\u001b[39mmodel\u001b[39m.\u001b[39mhidden_layer_size)\u001b[39m.\u001b[39mto(\u001b[39mself\u001b[39m\u001b[39m.\u001b[39mdevice)\n\u001b[1;32m     27\u001b[0m )\n\u001b[0;32m---> 28\u001b[0m y_pred \u001b[39m=\u001b[39m \u001b[39mself\u001b[39;49m\u001b[39m.\u001b[39;49mmodel(sequence)\n\u001b[1;32m     30\u001b[0m \u001b[39mself\u001b[39m\u001b[39m.\u001b[39msingle_loss \u001b[39m=\u001b[39m \u001b[39mself\u001b[39m\u001b[39m.\u001b[39mloss_function(y_pred, labels)\n\u001b[1;32m     31\u001b[0m \u001b[39mif\u001b[39;00m train:\n",
      "File \u001b[0;32m~/.local/lib/python3.10/site-packages/torch/nn/modules/module.py:1190\u001b[0m, in \u001b[0;36mModule._call_impl\u001b[0;34m(self, *input, **kwargs)\u001b[0m\n\u001b[1;32m   1186\u001b[0m \u001b[39m# If we don't have any hooks, we want to skip the rest of the logic in\u001b[39;00m\n\u001b[1;32m   1187\u001b[0m \u001b[39m# this function, and just call forward.\u001b[39;00m\n\u001b[1;32m   1188\u001b[0m \u001b[39mif\u001b[39;00m \u001b[39mnot\u001b[39;00m (\u001b[39mself\u001b[39m\u001b[39m.\u001b[39m_backward_hooks \u001b[39mor\u001b[39;00m \u001b[39mself\u001b[39m\u001b[39m.\u001b[39m_forward_hooks \u001b[39mor\u001b[39;00m \u001b[39mself\u001b[39m\u001b[39m.\u001b[39m_forward_pre_hooks \u001b[39mor\u001b[39;00m _global_backward_hooks\n\u001b[1;32m   1189\u001b[0m         \u001b[39mor\u001b[39;00m _global_forward_hooks \u001b[39mor\u001b[39;00m _global_forward_pre_hooks):\n\u001b[0;32m-> 1190\u001b[0m     \u001b[39mreturn\u001b[39;00m forward_call(\u001b[39m*\u001b[39;49m\u001b[39minput\u001b[39;49m, \u001b[39m*\u001b[39;49m\u001b[39m*\u001b[39;49mkwargs)\n\u001b[1;32m   1191\u001b[0m \u001b[39m# Do not call functions when jit is used\u001b[39;00m\n\u001b[1;32m   1192\u001b[0m full_backward_hooks, non_full_backward_hooks \u001b[39m=\u001b[39m [], []\n",
      "File \u001b[0;32m~/Desktop/code/energy_prediction/model_files/model.py:43\u001b[0m, in \u001b[0;36mLSTM.forward\u001b[0;34m(self, input_seq)\u001b[0m\n\u001b[1;32m     41\u001b[0m input_seq\u001b[39m.\u001b[39mto(\u001b[39mself\u001b[39m\u001b[39m.\u001b[39mdevice)\n\u001b[1;32m     42\u001b[0m \u001b[39mprint\u001b[39m(\u001b[39mlen\u001b[39m(input_seq))\n\u001b[0;32m---> 43\u001b[0m lstm_out, \u001b[39mself\u001b[39m\u001b[39m.\u001b[39mhidden_cell \u001b[39m=\u001b[39m \u001b[39mself\u001b[39;49m\u001b[39m.\u001b[39;49mlstm(input_seq\u001b[39m.\u001b[39;49mview(\u001b[39mlen\u001b[39;49m(input_seq) ,\u001b[39m1\u001b[39;49m, \u001b[39m-\u001b[39;49m\u001b[39m1\u001b[39;49m)\u001b[39m.\u001b[39;49mto(\u001b[39mself\u001b[39;49m\u001b[39m.\u001b[39;49mdevice), \u001b[39mself\u001b[39;49m\u001b[39m.\u001b[39;49mhidden_cell)\n\u001b[1;32m     44\u001b[0m predictions \u001b[39m=\u001b[39m \u001b[39mself\u001b[39m\u001b[39m.\u001b[39mlinear(lstm_out\u001b[39m.\u001b[39mview(\u001b[39mlen\u001b[39m(input_seq), \u001b[39m-\u001b[39m\u001b[39m1\u001b[39m))\n\u001b[1;32m     45\u001b[0m \u001b[39mreturn\u001b[39;00m predictions[\u001b[39m-\u001b[39m\u001b[39m1\u001b[39m]\n",
      "File \u001b[0;32m~/.local/lib/python3.10/site-packages/torch/nn/modules/module.py:1190\u001b[0m, in \u001b[0;36mModule._call_impl\u001b[0;34m(self, *input, **kwargs)\u001b[0m\n\u001b[1;32m   1186\u001b[0m \u001b[39m# If we don't have any hooks, we want to skip the rest of the logic in\u001b[39;00m\n\u001b[1;32m   1187\u001b[0m \u001b[39m# this function, and just call forward.\u001b[39;00m\n\u001b[1;32m   1188\u001b[0m \u001b[39mif\u001b[39;00m \u001b[39mnot\u001b[39;00m (\u001b[39mself\u001b[39m\u001b[39m.\u001b[39m_backward_hooks \u001b[39mor\u001b[39;00m \u001b[39mself\u001b[39m\u001b[39m.\u001b[39m_forward_hooks \u001b[39mor\u001b[39;00m \u001b[39mself\u001b[39m\u001b[39m.\u001b[39m_forward_pre_hooks \u001b[39mor\u001b[39;00m _global_backward_hooks\n\u001b[1;32m   1189\u001b[0m         \u001b[39mor\u001b[39;00m _global_forward_hooks \u001b[39mor\u001b[39;00m _global_forward_pre_hooks):\n\u001b[0;32m-> 1190\u001b[0m     \u001b[39mreturn\u001b[39;00m forward_call(\u001b[39m*\u001b[39;49m\u001b[39minput\u001b[39;49m, \u001b[39m*\u001b[39;49m\u001b[39m*\u001b[39;49mkwargs)\n\u001b[1;32m   1191\u001b[0m \u001b[39m# Do not call functions when jit is used\u001b[39;00m\n\u001b[1;32m   1192\u001b[0m full_backward_hooks, non_full_backward_hooks \u001b[39m=\u001b[39m [], []\n",
      "File \u001b[0;32m~/.local/lib/python3.10/site-packages/torch/nn/modules/rnn.py:774\u001b[0m, in \u001b[0;36mLSTM.forward\u001b[0;34m(self, input, hx)\u001b[0m\n\u001b[1;32m    772\u001b[0m \u001b[39mself\u001b[39m\u001b[39m.\u001b[39mcheck_forward_args(\u001b[39minput\u001b[39m, hx, batch_sizes)\n\u001b[1;32m    773\u001b[0m \u001b[39mif\u001b[39;00m batch_sizes \u001b[39mis\u001b[39;00m \u001b[39mNone\u001b[39;00m:\n\u001b[0;32m--> 774\u001b[0m     result \u001b[39m=\u001b[39m _VF\u001b[39m.\u001b[39;49mlstm(\u001b[39minput\u001b[39;49m, hx, \u001b[39mself\u001b[39;49m\u001b[39m.\u001b[39;49m_flat_weights, \u001b[39mself\u001b[39;49m\u001b[39m.\u001b[39;49mbias, \u001b[39mself\u001b[39;49m\u001b[39m.\u001b[39;49mnum_layers,\n\u001b[1;32m    775\u001b[0m                       \u001b[39mself\u001b[39;49m\u001b[39m.\u001b[39;49mdropout, \u001b[39mself\u001b[39;49m\u001b[39m.\u001b[39;49mtraining, \u001b[39mself\u001b[39;49m\u001b[39m.\u001b[39;49mbidirectional, \u001b[39mself\u001b[39;49m\u001b[39m.\u001b[39;49mbatch_first)\n\u001b[1;32m    776\u001b[0m \u001b[39melse\u001b[39;00m:\n\u001b[1;32m    777\u001b[0m     result \u001b[39m=\u001b[39m _VF\u001b[39m.\u001b[39mlstm(\u001b[39minput\u001b[39m, batch_sizes, hx, \u001b[39mself\u001b[39m\u001b[39m.\u001b[39m_flat_weights, \u001b[39mself\u001b[39m\u001b[39m.\u001b[39mbias,\n\u001b[1;32m    778\u001b[0m                       \u001b[39mself\u001b[39m\u001b[39m.\u001b[39mnum_layers, \u001b[39mself\u001b[39m\u001b[39m.\u001b[39mdropout, \u001b[39mself\u001b[39m\u001b[39m.\u001b[39mtraining, \u001b[39mself\u001b[39m\u001b[39m.\u001b[39mbidirectional)\n",
      "\u001b[0;31mRuntimeError\u001b[0m: Input and parameter tensors are not at the same device, found input tensor at cuda:0 and parameter tensor at cpu"
     ]
    }
   ],
   "source": [
    "trainer.fit()\n"
   ]
  },
  {
   "cell_type": "code",
   "execution_count": null,
   "metadata": {},
   "outputs": [],
   "source": []
  }
 ],
 "metadata": {
  "kernelspec": {
   "display_name": "Python 3.10.6 64-bit",
   "language": "python",
   "name": "python3"
  },
  "language_info": {
   "codemirror_mode": {
    "name": "ipython",
    "version": 3
   },
   "file_extension": ".py",
   "mimetype": "text/x-python",
   "name": "python",
   "nbconvert_exporter": "python",
   "pygments_lexer": "ipython3",
   "version": "3.10.6"
  },
  "orig_nbformat": 4,
  "vscode": {
   "interpreter": {
    "hash": "916dbcbb3f70747c44a77c7bcd40155683ae19c65e1c03b4aa3499c5328201f1"
   }
  }
 },
 "nbformat": 4,
 "nbformat_minor": 2
}
